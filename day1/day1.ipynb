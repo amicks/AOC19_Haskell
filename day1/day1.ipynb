{
 "cells": [
  {
   "cell_type": "markdown",
   "metadata": {},
   "source": [
    "Part 1\n",
    "======"
   ]
  },
  {
   "cell_type": "code",
   "execution_count": null,
   "metadata": {},
   "outputs": [],
   "source": [
    "import Prelude\n",
    "import System.IO\n",
    "\n",
    "fuelCountForLaunch :: [Int] -> Int\n",
    "fuelCountForLaunch ms = sum $ map fuelCount ms\n",
    "    where\n",
    "        fuelCount :: Int -> Int\n",
    "        fuelCount m = (m `div` 3) - 2\n",
    "\n",
    "main = do\n",
    "    handle <- openFile \"input.txt\" ReadMode\n",
    "    input_contents <- hGetContents handle\n",
    "    let ms_raw = words input_contents\n",
    "        ms = f ms_raw\n",
    "        answer = fuelCountForLaunch ms\n",
    "    print answer\n",
    "    hClose handle\n",
    "\n",
    "f :: [String] -> [Int]\n",
    "f = map read\n",
    "\n",
    "main1"
   ]
  },
  {
   "cell_type": "markdown",
   "metadata": {},
   "source": [
    "Part 2\n",
    "======"
   ]
  },
  {
   "cell_type": "code",
   "execution_count": null,
   "metadata": {},
   "outputs": [],
   "source": [
    "import Prelude\n",
    "import System.IO\n",
    "\n",
    "fuelCountForLaunch :: [Int] -> Int\n",
    "fuelCountForLaunch ms = sum $ map fuelCount ms\n",
    "    where\n",
    "        fuelCount :: Int -> Int\n",
    "        fuelCount m = if remaining <= 0 then 0 else fuelCount remaining + remaining\n",
    "            where remaining = (m `div` 3) - 2\n",
    "\n",
    "main = do\n",
    "    handle <- openFile \"input.txt\" ReadMode\n",
    "    input_contents <- hGetContents handle\n",
    "    let ms_raw = words input_contents\n",
    "        ms = f ms_raw\n",
    "        answer = fuelCountForLaunch ms\n",
    "    print answer\n",
    "    hClose handle\n",
    "\n",
    "f :: [String] -> [Int]\n",
    "f = map read\n",
    "\n",
    "main"
   ]
  }
 ],
 "metadata": {
  "kernelspec": {
   "display_name": "Haskell",
   "language": "haskell",
   "name": "haskell"
  },
  "language_info": {
   "codemirror_mode": "ihaskell",
   "file_extension": ".hs",
   "name": "haskell",
   "pygments_lexer": "Haskell",
   "version": "8.6.5"
  }
 },
 "nbformat": 4,
 "nbformat_minor": 4
}
