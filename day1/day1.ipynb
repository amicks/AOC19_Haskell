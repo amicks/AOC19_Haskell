{
 "cells": [
  {
   "cell_type": "markdown",
   "metadata": {},
   "source": [
    "Part 1\n",
    "======"
   ]
  },
  {
   "cell_type": "code",
   "execution_count": null,
   "metadata": {},
   "outputs": [],
   "source": [
    "import Prelude\n",
    "\n",
    "fuelCountForLaunch1 :: Int -> Int\n",
    "fuelCountForLaunch1 m = (m `div` 3) - 2"
   ]
  },
  {
   "cell_type": "code",
   "execution_count": null,
   "metadata": {},
   "outputs": [],
   "source": [
    "import System.IO\n",
    "\n",
    "main1 = do\n",
    "    handle <- openFile \"input.txt\" ReadMode\n",
    "    input_contents <- hGetContents handle\n",
    "    let ms_raw = words input_contents\n",
    "        ms = f ms_raw\n",
    "        answer = sum $ map fuelCountForLaunch1 ms\n",
    "    print answer\n",
    "    hClose handle\n",
    "\n",
    "f :: [String] -> [Int]\n",
    "f = map read\n",
    "\n",
    "main1"
   ]
  },
  {
   "cell_type": "markdown",
   "metadata": {},
   "source": [
    "Part 2\n",
    "======"
   ]
  },
  {
   "cell_type": "code",
   "execution_count": null,
   "metadata": {},
   "outputs": [],
   "source": [
    "import Prelude\n",
    "\n",
    "fuelCountForLaunch2 :: Int -> Int\n",
    "fuelCountForLaunch2 m = if remaining <= 0 then 0 else fuelCountForLaunch2 remaining + remaining\n",
    "    where remaining = (m `div` 3) - 2"
   ]
  },
  {
   "cell_type": "code",
   "execution_count": null,
   "metadata": {},
   "outputs": [],
   "source": [
    "import System.IO\n",
    "\n",
    "main2 = do\n",
    "    handle <- openFile \"input.txt\" ReadMode\n",
    "    input_contents <- hGetContents handle\n",
    "    let ms_raw = words input_contents\n",
    "        ms = f ms_raw\n",
    "        answer = sum $ map fuelCountForLaunch2 ms\n",
    "    print answer\n",
    "    hClose handle\n",
    "\n",
    "f :: [String] -> [Int]\n",
    "f = map read\n",
    "\n",
    "main2"
   ]
  },
  {
   "cell_type": "code",
   "execution_count": null,
   "metadata": {},
   "outputs": [],
   "source": []
  }
 ],
 "metadata": {
  "kernelspec": {
   "display_name": "Haskell",
   "language": "haskell",
   "name": "haskell"
  },
  "language_info": {
   "codemirror_mode": "ihaskell",
   "file_extension": ".hs",
   "name": "haskell",
   "pygments_lexer": "Haskell",
   "version": "8.6.5"
  }
 },
 "nbformat": 4,
 "nbformat_minor": 4
}
